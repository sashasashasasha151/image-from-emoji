{
 "cells": [
  {
   "cell_type": "code",
   "execution_count": 155,
   "metadata": {},
   "outputs": [],
   "source": [
    "import cv2\n",
    "import numpy as np"
   ]
  },
  {
   "cell_type": "code",
   "execution_count": 156,
   "metadata": {},
   "outputs": [],
   "source": [
    "img = cv2.imread(\"InputImage/eaIPmi50dbI.jpg\")"
   ]
  },
  {
   "cell_type": "code",
   "execution_count": 157,
   "metadata": {},
   "outputs": [
    {
     "name": "stdout",
     "output_type": "stream",
     "text": [
      "(1500, 1200, 4)\n"
     ]
    }
   ],
   "source": [
    "cv2.imwrite('bw_image.png', img)\n",
    "img = cv2.imread(\"bw_image.png\")\n",
    "img = cv2.resize(img,(1200,1500))\n",
    "\n",
    "b_channel, g_channel, r_channel = cv2.split(img)\n",
    "\n",
    "alpha_channel = np.ones(b_channel.shape, dtype=b_channel.dtype) * 50 #creating a dummy alpha channel image.\n",
    "\n",
    "img = cv2.merge((b_channel, g_channel, r_channel, alpha_channel))\n",
    "\n",
    "print(img.shape)"
   ]
  },
  {
   "cell_type": "code",
   "execution_count": 158,
   "metadata": {},
   "outputs": [],
   "source": [
    "for j in range(0,1500,10):\n",
    "    for i in range(0,1200,10):\n",
    "        c_im = img[j:j+10,i:i+10]\n",
    "        c_im = cv2.resize(c_im,(160,160))\n",
    "        cv2.imwrite(\"OutputImage/\" + str(i) + \"_\" + str(j) + \".png\", c_im)"
   ]
  },
  {
   "cell_type": "code",
   "execution_count": 160,
   "metadata": {},
   "outputs": [
    {
     "data": {
      "text/plain": [
       "True"
      ]
     },
     "execution_count": 160,
     "metadata": {},
     "output_type": "execute_result"
    }
   ],
   "source": [
    "blank_image = np.zeros((15000,12000,3), np.uint8)\n",
    "\n",
    "for j in range(0,15000,100):\n",
    "    for i in range(0,12000,100):\n",
    "        c_im = cv2.imread(\"OUT/\" + str(i//10) + \"_\" + str(j//10) + \".png\",-1)\n",
    "        c_im = cv2.resize(c_im,(100,100))\n",
    "        blank_image[j:j+100,i:i+100] = c_im\n",
    "cv2.imwrite('YES.jpg', blank_image)"
   ]
  },
  {
   "cell_type": "code",
   "execution_count": null,
   "metadata": {},
   "outputs": [],
   "source": [
    "vis = cv2.imread(\"OUT/0_0.png\", cv2.COLOR_BAYER_BG2BGRA)\n"
   ]
  }
 ],
 "metadata": {
  "kernelspec": {
   "display_name": "Python 3",
   "language": "python",
   "name": "python3"
  },
  "language_info": {
   "codemirror_mode": {
    "name": "ipython",
    "version": 3
   },
   "file_extension": ".py",
   "mimetype": "text/x-python",
   "name": "python",
   "nbconvert_exporter": "python",
   "pygments_lexer": "ipython3",
   "version": "3.6.6"
  }
 },
 "nbformat": 4,
 "nbformat_minor": 2
}
