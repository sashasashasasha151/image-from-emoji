{
 "cells": [
  {
   "cell_type": "code",
   "execution_count": 1,
   "metadata": {},
   "outputs": [],
   "source": [
    "import numpy as np\n",
    "import glob\n",
    "import cv2\n",
    "import os"
   ]
  },
  {
   "cell_type": "code",
   "execution_count": 2,
   "metadata": {},
   "outputs": [],
   "source": [
    "img = cv2.imread(\"InputImage/dcJgpal4-5Q.jpg\")\n",
    "cv2.imwrite('InputImage/dcJgpal4-5Q.png', img)\n",
    "img = cv2.imread(\"InputImage/dcJgpal4-5Q.png\")"
   ]
  },
  {
   "cell_type": "code",
   "execution_count": 3,
   "metadata": {},
   "outputs": [],
   "source": [
    "height = 900"
   ]
  },
  {
   "cell_type": "code",
   "execution_count": 4,
   "metadata": {},
   "outputs": [],
   "source": [
    "width = 700"
   ]
  },
  {
   "cell_type": "code",
   "execution_count": 5,
   "metadata": {},
   "outputs": [],
   "source": [
    "img = cv2.resize(img,(width,height))"
   ]
  },
  {
   "cell_type": "code",
   "execution_count": 6,
   "metadata": {},
   "outputs": [],
   "source": [
    "files = glob.glob('OutputImage/*')\n",
    "for f in files:\n",
    "    os.remove(f)"
   ]
  },
  {
   "cell_type": "code",
   "execution_count": 7,
   "metadata": {},
   "outputs": [],
   "source": [
    "for j in range(0,height,10):\n",
    "    for i in range(0,width,10):\n",
    "        c_im = img[j:j+10,i:i+10]\n",
    "        c_im = cv2.resize(c_im,(160,160))\n",
    "        cv2.imwrite(\"OutputImage/\" + str(i) + \"_\" + str(j) + \".png\", c_im)"
   ]
  },
  {
   "cell_type": "code",
   "execution_count": 16,
   "metadata": {},
   "outputs": [
    {
     "name": "stdout",
     "output_type": "stream",
     "text": [
      "OK\n"
     ]
    }
   ],
   "source": [
    "in_index = {}\n",
    "in_images = {}\n",
    "for imagePath in glob.glob(\"EmojiImages\" + \"/*.png\"):\n",
    "    # extract the image filename (assumed to be unique) and\n",
    "    # load the image, updating the images dictionary\n",
    "    filename = imagePath[imagePath.rfind(\"/\") + 1:]\n",
    "    image = cv2.imread(imagePath)\n",
    "    \n",
    "    Z = image.reshape((-1,3))\n",
    "\n",
    "    # convert to np.float32\n",
    "    Z = np.float32(Z)\n",
    "\n",
    "    # define criteria, number of clusters(K) and apply kmeans()\n",
    "    criteria = (cv2.TERM_CRITERIA_EPS + cv2.TERM_CRITERIA_MAX_ITER, 10, 1.0)\n",
    "    K = 5\n",
    "    ret,label,center=cv2.kmeans(Z,K,None,criteria,10,cv2.KMEANS_RANDOM_CENTERS)\n",
    "\n",
    "    # Now convert back into uint8, and make original image\n",
    "    center = np.uint8(center)\n",
    "    res = center[label.flatten()]\n",
    "    res2 = res.reshape((image.shape))\n",
    "    \n",
    "    in_images[filename] = image\n",
    " \n",
    "    # extract a 3D RGB color histogram from the image,\n",
    "    # using 8 bins per channel, normalize, and update\n",
    "    # the index\n",
    "    hist = cv2.calcHist([image], [0, 1, 2], None, [8, 8, 8],\n",
    "        [0, 256, 0, 256, 0, 256])\n",
    "    hist = cv2.normalize(hist,hist).flatten()\n",
    "    in_index[filename] = hist\n",
    "print(\"OK\")"
   ]
  },
  {
   "cell_type": "code",
   "execution_count": 17,
   "metadata": {},
   "outputs": [
    {
     "name": "stdout",
     "output_type": "stream",
     "text": [
      "OK\n"
     ]
    }
   ],
   "source": [
    "out_index = {}\n",
    "out_images = {}\n",
    "for imagePath in glob.glob(\"OutputImage\" + \"/*.png\"):\n",
    "    # extract the image filename (assumed to be unique) and\n",
    "    # load the image, updating the images dictionary\n",
    "    filename = imagePath[imagePath.rfind(\"/\") + 1:]\n",
    "    image = cv2.imread(imagePath)\n",
    "    \n",
    "    Z = image.reshape((-1,3))\n",
    "\n",
    "    # convert to np.float32\n",
    "    Z = np.float32(Z)\n",
    "\n",
    "    # define criteria, number of clusters(K) and apply kmeans()\n",
    "    criteria = (cv2.TERM_CRITERIA_EPS + cv2.TERM_CRITERIA_MAX_ITER, 10, 1.0)\n",
    "    K = 5\n",
    "    ret,label,center=cv2.kmeans(Z,K,None,criteria,10,cv2.KMEANS_RANDOM_CENTERS)\n",
    "\n",
    "    # Now convert back into uint8, and make original image\n",
    "    center = np.uint8(center)\n",
    "    res = center[label.flatten()]\n",
    "    res2 = res.reshape((image.shape))\n",
    "    \n",
    "    out_images[filename] = image\n",
    " \n",
    "    # extract a 3D RGB color histogram from the image,\n",
    "    # using 8 bins per channel, normalize, and update\n",
    "    # the index\n",
    "    hist = cv2.calcHist([image], [0, 1, 2], None, [8, 8, 8],\n",
    "        [0, 256, 0, 256, 0, 256])\n",
    "    hist = cv2.normalize(hist,hist).flatten()\n",
    "    out_index[filename] = hist\n",
    "print(\"OK\")"
   ]
  },
  {
   "cell_type": "code",
   "execution_count": 18,
   "metadata": {},
   "outputs": [],
   "source": [
    "for j in range(0,height,10):\n",
    "    for i in range(0,width,10):\n",
    "        val_d = 0.0\n",
    "        val_k = \"name\"\n",
    "        results = {}\n",
    "        for (k, hist) in in_index.items():\n",
    "        # compute the distance between the two histograms\n",
    "        # using the method and update the results dictionary \n",
    "            d = cv2.compareHist(out_index[str(i) + \"_\" + str(j) + \".png\"], hist, cv2.HISTCMP_CORREL)\n",
    "            if d > val_d:\n",
    "                val_d = d\n",
    "                val_k = k\n",
    "#             results[k] = d\n",
    "#         results = sorted([(v, k) for (k, v) in results.items()], reverse = True)\n",
    "        new_im = in_images[val_k]\n",
    "        cv2.imwrite(\"OUT/\" + str(i) + \"_\" + str(j) + \".png\", new_im)"
   ]
  },
  {
   "cell_type": "code",
   "execution_count": 19,
   "metadata": {},
   "outputs": [
    {
     "data": {
      "text/plain": [
       "True"
      ]
     },
     "execution_count": 19,
     "metadata": {},
     "output_type": "execute_result"
    }
   ],
   "source": [
    "blank_image = np.zeros((height*10,width*10,3), np.uint8)\n",
    "\n",
    "for j in range(0,height*10,100):\n",
    "    for i in range(0,width*10,100):\n",
    "        c_im = cv2.imread(\"OUT/\" + str(i//10) + \"_\" + str(j//10) + \".png\",-1)\n",
    "        c_im = cv2.resize(c_im,(100,100))\n",
    "        blank_image[j:j+100,i:i+100] = c_im\n",
    "blank_image = cv2.resize(blank_image, (width,height))\n",
    "cv2.imwrite('YES.png', blank_image)"
   ]
  },
  {
   "cell_type": "code",
   "execution_count": null,
   "metadata": {},
   "outputs": [],
   "source": []
  }
 ],
 "metadata": {
  "kernelspec": {
   "display_name": "Python 3",
   "language": "python",
   "name": "python3"
  },
  "language_info": {
   "codemirror_mode": {
    "name": "ipython",
    "version": 3
   },
   "file_extension": ".py",
   "mimetype": "text/x-python",
   "name": "python",
   "nbconvert_exporter": "python",
   "pygments_lexer": "ipython3",
   "version": "3.6.6"
  }
 },
 "nbformat": 4,
 "nbformat_minor": 2
}
